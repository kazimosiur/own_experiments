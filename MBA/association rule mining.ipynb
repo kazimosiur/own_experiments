{
 "cells": [
  {
   "cell_type": "markdown",
   "id": "de0e64b1",
   "metadata": {},
   "source": [
    "A -> B goes in group\n",
    "A -> B -> C \n",
    "\n",
    "if we have large set of data , it is not possible to create such huge rules of data. This is where Apriori comes in"
   ]
  },
  {
   "cell_type": "markdown",
   "id": "38ae12fe",
   "metadata": {},
   "source": [
    "Apriori helps in measure associtaiton\n",
    "\n",
    "Support  - freq(A,B)/N - helps filter out the combinations\n",
    "\n",
    "Confidence - Freq(A,B)/ Freq(A) gives us the confidence of how many times they are being bought together\n",
    "\n",
    "Even after all those filters, we still have lots of rules , this cannot be possible. Here we need another metrics\n",
    "\n",
    "Lift- Defines the strength of any rule\n",
    "\n",
    "Lift - Support(A,B)/ Support(A) * Support(B)"
   ]
  },
  {
   "cell_type": "code",
   "execution_count": null,
   "id": "71511d0c",
   "metadata": {},
   "outputs": [],
   "source": []
  }
 ],
 "metadata": {
  "kernelspec": {
   "display_name": "Python 3 (ipykernel)",
   "language": "python",
   "name": "python3"
  },
  "language_info": {
   "codemirror_mode": {
    "name": "ipython",
    "version": 3
   },
   "file_extension": ".py",
   "mimetype": "text/x-python",
   "name": "python",
   "nbconvert_exporter": "python",
   "pygments_lexer": "ipython3",
   "version": "3.9.12"
  }
 },
 "nbformat": 4,
 "nbformat_minor": 5
}
