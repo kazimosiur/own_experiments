{
 "cells": [
  {
   "cell_type": "markdown",
   "id": "2bdcd9e2",
   "metadata": {},
   "source": [
    "resource learning: https://www.youtube.com/watch?v=NlMrvCYlOOQ&list=PLz-ep5RbHosVi8Qoyqvz1MEiYrz35Zb7F&index=2"
   ]
  },
  {
   "cell_type": "code",
   "execution_count": 2,
   "id": "4d8627b1",
   "metadata": {},
   "outputs": [
    {
     "name": "stderr",
     "output_type": "stream",
     "text": [
      "/Users/k.rahman.3/.conda/envs/qc_ops_central_data_science/lib/python3.9/site-packages/scipy/__init__.py:146: UserWarning: A NumPy version >=1.16.5 and <1.23.0 is required for this version of SciPy (detected version 1.23.1\n",
      "  warnings.warn(f\"A NumPy version >={np_minversion} and <{np_maxversion}\"\n"
     ]
    }
   ],
   "source": [
    "import yfinance as yf\n",
    "import kmapper as km\n",
    "from kmapper.jupyter import display\n",
    "import umap\n",
    "import sklearn\n",
    "import sklearn.manifold as manifold\n",
    "import numpy as np\n",
    "import matplotlib.pyplot as plt"
   ]
  },
  {
   "cell_type": "code",
   "execution_count": null,
   "id": "3b87062f",
   "metadata": {},
   "outputs": [],
   "source": []
  }
 ],
 "metadata": {
  "kernelspec": {
   "display_name": "Python 3 (ipykernel)",
   "language": "python",
   "name": "python3"
  },
  "language_info": {
   "codemirror_mode": {
    "name": "ipython",
    "version": 3
   },
   "file_extension": ".py",
   "mimetype": "text/x-python",
   "name": "python",
   "nbconvert_exporter": "python",
   "pygments_lexer": "ipython3",
   "version": "3.9.12"
  }
 },
 "nbformat": 4,
 "nbformat_minor": 5
}
